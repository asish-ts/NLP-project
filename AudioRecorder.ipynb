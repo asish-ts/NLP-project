!pip install pyaudio
Collecting pyaudio
  Downloading PyAudio-0.2.11-cp36-cp36m-win_amd64.whl (52kB)
Installing collected packages: pyaudio
Successfully installed pyaudio-0.2.11
!pip install wave
Collecting wave
  Downloading Wave-0.0.2.tar.gz
Building wheels for collected packages: wave
  Running setup.py bdist_wheel for wave: started
  Running setup.py bdist_wheel for wave: finished with status 'done'
  Stored in directory: C:\Users\mites\AppData\Local\pip\Cache\wheels\49\db\0f\18c4bbc88cf4af661a52e4854f4798f62fece2c74671896570
Successfully built wave
Installing collected packages: wave
Successfully installed wave-0.0.2
import pyaudio
import wave

CHUNK = 1024 
FORMAT = pyaudio.paInt16 #paInt8
CHANNELS = 2 
RATE = 44100 #sample rate
RECORD_SECONDS = 4
WAVE_OUTPUT_FILENAME = "output10.wav"

p = pyaudio.PyAudio()

stream = p.open(format=FORMAT,
                channels=CHANNELS,
                rate=RATE,
                input=True,
                frames_per_buffer=CHUNK) #buffer

print("* recording")

frames = []

for i in range(0, int(RATE / CHUNK * RECORD_SECONDS)):
    data = stream.read(CHUNK)
    frames.append(data) # 2 bytes(16 bits) per channel

print("* done recording")

stream.stop_stream()
stream.close()
p.terminate()

wf = wave.open(WAVE_OUTPUT_FILENAME, 'wb')
wf.setnchannels(CHANNELS)
wf.setsampwidth(p.get_sample_size(FORMAT))
wf.setframerate(RATE)
wf.writeframes(b''.join(frames))
wf.close()
* recording
* done recording